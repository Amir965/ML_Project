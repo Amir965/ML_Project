{
  "nbformat": 4,
  "nbformat_minor": 0,
  "metadata": {
    "colab": {
      "name": "FinalProject.ipynb",
      "provenance": []
    },
    "kernelspec": {
      "name": "python3",
      "display_name": "Python 3"
    }
  },
  "cells": [
    {
      "cell_type": "code",
      "metadata": {
        "id": "v6nYjGs--qn9",
        "colab_type": "code",
        "colab": {}
      },
      "source": [
        "import numpy as np\n",
        "import pandas as pd\n",
        "import matplotlib.pyplot as plt"
      ],
      "execution_count": 1,
      "outputs": []
    },
    {
      "cell_type": "code",
      "metadata": {
        "id": "4rfrZ6FH_NWw",
        "colab_type": "code",
        "colab": {
          "base_uri": "https://localhost:8080/",
          "height": 453
        },
        "outputId": "f961e6ce-a091-48ef-8170-03dbd939935a"
      },
      "source": [
        "data=pd.read_csv('/content/Concrete_compressive_strength.csv')\n",
        "data"
      ],
      "execution_count": 2,
      "outputs": [
        {
          "output_type": "execute_result",
          "data": {
            "text/html": [
              "<div>\n",
              "<style scoped>\n",
              "    .dataframe tbody tr th:only-of-type {\n",
              "        vertical-align: middle;\n",
              "    }\n",
              "\n",
              "    .dataframe tbody tr th {\n",
              "        vertical-align: top;\n",
              "    }\n",
              "\n",
              "    .dataframe thead th {\n",
              "        text-align: right;\n",
              "    }\n",
              "</style>\n",
              "<table border=\"1\" class=\"dataframe\">\n",
              "  <thead>\n",
              "    <tr style=\"text-align: right;\">\n",
              "      <th></th>\n",
              "      <th>Cement (component 1)(kg in a m^3 mixture)</th>\n",
              "      <th>Blast Furnace Slag (component 2)(kg in a m^3 mixture)</th>\n",
              "      <th>Fly Ash (component 3)(kg in a m^3 mixture)</th>\n",
              "      <th>Water</th>\n",
              "      <th>Superplasticizer (component 5)(kg in a m^3 mixture)</th>\n",
              "      <th>Coarse_agg</th>\n",
              "      <th>Fine Aggregate (component 7)(kg in a m^3 mixture)</th>\n",
              "      <th>Age (day)</th>\n",
              "      <th>Strength</th>\n",
              "    </tr>\n",
              "  </thead>\n",
              "  <tbody>\n",
              "    <tr>\n",
              "      <th>0</th>\n",
              "      <td>540.0</td>\n",
              "      <td>0.0</td>\n",
              "      <td>0.0</td>\n",
              "      <td>162.0</td>\n",
              "      <td>2.5</td>\n",
              "      <td>1040.0</td>\n",
              "      <td>676.0</td>\n",
              "      <td>28</td>\n",
              "      <td>79.99</td>\n",
              "    </tr>\n",
              "    <tr>\n",
              "      <th>1</th>\n",
              "      <td>540.0</td>\n",
              "      <td>0.0</td>\n",
              "      <td>0.0</td>\n",
              "      <td>162.0</td>\n",
              "      <td>2.5</td>\n",
              "      <td>1055.0</td>\n",
              "      <td>676.0</td>\n",
              "      <td>28</td>\n",
              "      <td>61.89</td>\n",
              "    </tr>\n",
              "    <tr>\n",
              "      <th>2</th>\n",
              "      <td>332.5</td>\n",
              "      <td>142.5</td>\n",
              "      <td>0.0</td>\n",
              "      <td>228.0</td>\n",
              "      <td>0.0</td>\n",
              "      <td>932.0</td>\n",
              "      <td>594.0</td>\n",
              "      <td>270</td>\n",
              "      <td>40.27</td>\n",
              "    </tr>\n",
              "    <tr>\n",
              "      <th>3</th>\n",
              "      <td>332.5</td>\n",
              "      <td>142.5</td>\n",
              "      <td>0.0</td>\n",
              "      <td>228.0</td>\n",
              "      <td>0.0</td>\n",
              "      <td>932.0</td>\n",
              "      <td>594.0</td>\n",
              "      <td>365</td>\n",
              "      <td>41.05</td>\n",
              "    </tr>\n",
              "    <tr>\n",
              "      <th>4</th>\n",
              "      <td>198.6</td>\n",
              "      <td>132.4</td>\n",
              "      <td>0.0</td>\n",
              "      <td>192.0</td>\n",
              "      <td>0.0</td>\n",
              "      <td>978.4</td>\n",
              "      <td>825.5</td>\n",
              "      <td>360</td>\n",
              "      <td>44.30</td>\n",
              "    </tr>\n",
              "    <tr>\n",
              "      <th>...</th>\n",
              "      <td>...</td>\n",
              "      <td>...</td>\n",
              "      <td>...</td>\n",
              "      <td>...</td>\n",
              "      <td>...</td>\n",
              "      <td>...</td>\n",
              "      <td>...</td>\n",
              "      <td>...</td>\n",
              "      <td>...</td>\n",
              "    </tr>\n",
              "    <tr>\n",
              "      <th>1025</th>\n",
              "      <td>276.4</td>\n",
              "      <td>116.0</td>\n",
              "      <td>90.3</td>\n",
              "      <td>179.6</td>\n",
              "      <td>8.9</td>\n",
              "      <td>870.1</td>\n",
              "      <td>768.3</td>\n",
              "      <td>28</td>\n",
              "      <td>44.28</td>\n",
              "    </tr>\n",
              "    <tr>\n",
              "      <th>1026</th>\n",
              "      <td>322.2</td>\n",
              "      <td>0.0</td>\n",
              "      <td>115.6</td>\n",
              "      <td>196.0</td>\n",
              "      <td>10.4</td>\n",
              "      <td>817.9</td>\n",
              "      <td>813.4</td>\n",
              "      <td>28</td>\n",
              "      <td>31.18</td>\n",
              "    </tr>\n",
              "    <tr>\n",
              "      <th>1027</th>\n",
              "      <td>148.5</td>\n",
              "      <td>139.4</td>\n",
              "      <td>108.6</td>\n",
              "      <td>192.7</td>\n",
              "      <td>6.1</td>\n",
              "      <td>892.4</td>\n",
              "      <td>780.0</td>\n",
              "      <td>28</td>\n",
              "      <td>23.70</td>\n",
              "    </tr>\n",
              "    <tr>\n",
              "      <th>1028</th>\n",
              "      <td>159.1</td>\n",
              "      <td>186.7</td>\n",
              "      <td>0.0</td>\n",
              "      <td>175.6</td>\n",
              "      <td>11.3</td>\n",
              "      <td>989.6</td>\n",
              "      <td>788.9</td>\n",
              "      <td>28</td>\n",
              "      <td>32.77</td>\n",
              "    </tr>\n",
              "    <tr>\n",
              "      <th>1029</th>\n",
              "      <td>260.9</td>\n",
              "      <td>100.5</td>\n",
              "      <td>78.3</td>\n",
              "      <td>200.6</td>\n",
              "      <td>8.6</td>\n",
              "      <td>864.5</td>\n",
              "      <td>761.5</td>\n",
              "      <td>28</td>\n",
              "      <td>32.40</td>\n",
              "    </tr>\n",
              "  </tbody>\n",
              "</table>\n",
              "<p>1030 rows × 9 columns</p>\n",
              "</div>"
            ],
            "text/plain": [
              "      Cement (component 1)(kg in a m^3 mixture)  ...  Strength\n",
              "0                                         540.0  ...     79.99\n",
              "1                                         540.0  ...     61.89\n",
              "2                                         332.5  ...     40.27\n",
              "3                                         332.5  ...     41.05\n",
              "4                                         198.6  ...     44.30\n",
              "...                                         ...  ...       ...\n",
              "1025                                      276.4  ...     44.28\n",
              "1026                                      322.2  ...     31.18\n",
              "1027                                      148.5  ...     23.70\n",
              "1028                                      159.1  ...     32.77\n",
              "1029                                      260.9  ...     32.40\n",
              "\n",
              "[1030 rows x 9 columns]"
            ]
          },
          "metadata": {
            "tags": []
          },
          "execution_count": 2
        }
      ]
    },
    {
      "cell_type": "code",
      "metadata": {
        "id": "PJ63Qour_SMq",
        "colab_type": "code",
        "colab": {
          "base_uri": "https://localhost:8080/",
          "height": 393
        },
        "outputId": "1349c661-b87b-4b10-99dd-e2579129ac81"
      },
      "source": [
        "data.head(10)"
      ],
      "execution_count": 3,
      "outputs": [
        {
          "output_type": "execute_result",
          "data": {
            "text/html": [
              "<div>\n",
              "<style scoped>\n",
              "    .dataframe tbody tr th:only-of-type {\n",
              "        vertical-align: middle;\n",
              "    }\n",
              "\n",
              "    .dataframe tbody tr th {\n",
              "        vertical-align: top;\n",
              "    }\n",
              "\n",
              "    .dataframe thead th {\n",
              "        text-align: right;\n",
              "    }\n",
              "</style>\n",
              "<table border=\"1\" class=\"dataframe\">\n",
              "  <thead>\n",
              "    <tr style=\"text-align: right;\">\n",
              "      <th></th>\n",
              "      <th>Cement (component 1)(kg in a m^3 mixture)</th>\n",
              "      <th>Blast Furnace Slag (component 2)(kg in a m^3 mixture)</th>\n",
              "      <th>Fly Ash (component 3)(kg in a m^3 mixture)</th>\n",
              "      <th>Water</th>\n",
              "      <th>Superplasticizer (component 5)(kg in a m^3 mixture)</th>\n",
              "      <th>Coarse_agg</th>\n",
              "      <th>Fine Aggregate (component 7)(kg in a m^3 mixture)</th>\n",
              "      <th>Age (day)</th>\n",
              "      <th>Strength</th>\n",
              "    </tr>\n",
              "  </thead>\n",
              "  <tbody>\n",
              "    <tr>\n",
              "      <th>0</th>\n",
              "      <td>540.0</td>\n",
              "      <td>0.0</td>\n",
              "      <td>0.0</td>\n",
              "      <td>162.0</td>\n",
              "      <td>2.5</td>\n",
              "      <td>1040.0</td>\n",
              "      <td>676.0</td>\n",
              "      <td>28</td>\n",
              "      <td>79.99</td>\n",
              "    </tr>\n",
              "    <tr>\n",
              "      <th>1</th>\n",
              "      <td>540.0</td>\n",
              "      <td>0.0</td>\n",
              "      <td>0.0</td>\n",
              "      <td>162.0</td>\n",
              "      <td>2.5</td>\n",
              "      <td>1055.0</td>\n",
              "      <td>676.0</td>\n",
              "      <td>28</td>\n",
              "      <td>61.89</td>\n",
              "    </tr>\n",
              "    <tr>\n",
              "      <th>2</th>\n",
              "      <td>332.5</td>\n",
              "      <td>142.5</td>\n",
              "      <td>0.0</td>\n",
              "      <td>228.0</td>\n",
              "      <td>0.0</td>\n",
              "      <td>932.0</td>\n",
              "      <td>594.0</td>\n",
              "      <td>270</td>\n",
              "      <td>40.27</td>\n",
              "    </tr>\n",
              "    <tr>\n",
              "      <th>3</th>\n",
              "      <td>332.5</td>\n",
              "      <td>142.5</td>\n",
              "      <td>0.0</td>\n",
              "      <td>228.0</td>\n",
              "      <td>0.0</td>\n",
              "      <td>932.0</td>\n",
              "      <td>594.0</td>\n",
              "      <td>365</td>\n",
              "      <td>41.05</td>\n",
              "    </tr>\n",
              "    <tr>\n",
              "      <th>4</th>\n",
              "      <td>198.6</td>\n",
              "      <td>132.4</td>\n",
              "      <td>0.0</td>\n",
              "      <td>192.0</td>\n",
              "      <td>0.0</td>\n",
              "      <td>978.4</td>\n",
              "      <td>825.5</td>\n",
              "      <td>360</td>\n",
              "      <td>44.30</td>\n",
              "    </tr>\n",
              "    <tr>\n",
              "      <th>5</th>\n",
              "      <td>266.0</td>\n",
              "      <td>114.0</td>\n",
              "      <td>0.0</td>\n",
              "      <td>228.0</td>\n",
              "      <td>0.0</td>\n",
              "      <td>932.0</td>\n",
              "      <td>670.0</td>\n",
              "      <td>90</td>\n",
              "      <td>47.03</td>\n",
              "    </tr>\n",
              "    <tr>\n",
              "      <th>6</th>\n",
              "      <td>380.0</td>\n",
              "      <td>95.0</td>\n",
              "      <td>0.0</td>\n",
              "      <td>228.0</td>\n",
              "      <td>0.0</td>\n",
              "      <td>932.0</td>\n",
              "      <td>594.0</td>\n",
              "      <td>365</td>\n",
              "      <td>43.70</td>\n",
              "    </tr>\n",
              "    <tr>\n",
              "      <th>7</th>\n",
              "      <td>380.0</td>\n",
              "      <td>95.0</td>\n",
              "      <td>0.0</td>\n",
              "      <td>228.0</td>\n",
              "      <td>0.0</td>\n",
              "      <td>932.0</td>\n",
              "      <td>594.0</td>\n",
              "      <td>28</td>\n",
              "      <td>36.45</td>\n",
              "    </tr>\n",
              "    <tr>\n",
              "      <th>8</th>\n",
              "      <td>266.0</td>\n",
              "      <td>114.0</td>\n",
              "      <td>0.0</td>\n",
              "      <td>228.0</td>\n",
              "      <td>0.0</td>\n",
              "      <td>932.0</td>\n",
              "      <td>670.0</td>\n",
              "      <td>28</td>\n",
              "      <td>45.85</td>\n",
              "    </tr>\n",
              "    <tr>\n",
              "      <th>9</th>\n",
              "      <td>475.0</td>\n",
              "      <td>0.0</td>\n",
              "      <td>0.0</td>\n",
              "      <td>228.0</td>\n",
              "      <td>0.0</td>\n",
              "      <td>932.0</td>\n",
              "      <td>594.0</td>\n",
              "      <td>28</td>\n",
              "      <td>39.29</td>\n",
              "    </tr>\n",
              "  </tbody>\n",
              "</table>\n",
              "</div>"
            ],
            "text/plain": [
              "   Cement (component 1)(kg in a m^3 mixture)  ...  Strength\n",
              "0                                      540.0  ...     79.99\n",
              "1                                      540.0  ...     61.89\n",
              "2                                      332.5  ...     40.27\n",
              "3                                      332.5  ...     41.05\n",
              "4                                      198.6  ...     44.30\n",
              "5                                      266.0  ...     47.03\n",
              "6                                      380.0  ...     43.70\n",
              "7                                      380.0  ...     36.45\n",
              "8                                      266.0  ...     45.85\n",
              "9                                      475.0  ...     39.29\n",
              "\n",
              "[10 rows x 9 columns]"
            ]
          },
          "metadata": {
            "tags": []
          },
          "execution_count": 3
        }
      ]
    },
    {
      "cell_type": "code",
      "metadata": {
        "id": "qzJVhBI__YbR",
        "colab_type": "code",
        "colab": {
          "base_uri": "https://localhost:8080/",
          "height": 515
        },
        "outputId": "00ea9343-b793-47ab-f169-4f5d401ec660"
      },
      "source": [
        "cor=data.corr()\n",
        "cor"
      ],
      "execution_count": 4,
      "outputs": [
        {
          "output_type": "execute_result",
          "data": {
            "text/html": [
              "<div>\n",
              "<style scoped>\n",
              "    .dataframe tbody tr th:only-of-type {\n",
              "        vertical-align: middle;\n",
              "    }\n",
              "\n",
              "    .dataframe tbody tr th {\n",
              "        vertical-align: top;\n",
              "    }\n",
              "\n",
              "    .dataframe thead th {\n",
              "        text-align: right;\n",
              "    }\n",
              "</style>\n",
              "<table border=\"1\" class=\"dataframe\">\n",
              "  <thead>\n",
              "    <tr style=\"text-align: right;\">\n",
              "      <th></th>\n",
              "      <th>Cement (component 1)(kg in a m^3 mixture)</th>\n",
              "      <th>Blast Furnace Slag (component 2)(kg in a m^3 mixture)</th>\n",
              "      <th>Fly Ash (component 3)(kg in a m^3 mixture)</th>\n",
              "      <th>Water</th>\n",
              "      <th>Superplasticizer (component 5)(kg in a m^3 mixture)</th>\n",
              "      <th>Coarse_agg</th>\n",
              "      <th>Fine Aggregate (component 7)(kg in a m^3 mixture)</th>\n",
              "      <th>Age (day)</th>\n",
              "      <th>Strength</th>\n",
              "    </tr>\n",
              "  </thead>\n",
              "  <tbody>\n",
              "    <tr>\n",
              "      <th>Cement (component 1)(kg in a m^3 mixture)</th>\n",
              "      <td>1.000000</td>\n",
              "      <td>-0.275216</td>\n",
              "      <td>-0.397467</td>\n",
              "      <td>-0.081587</td>\n",
              "      <td>0.092386</td>\n",
              "      <td>-0.109349</td>\n",
              "      <td>-0.222718</td>\n",
              "      <td>0.081946</td>\n",
              "      <td>0.497832</td>\n",
              "    </tr>\n",
              "    <tr>\n",
              "      <th>Blast Furnace Slag (component 2)(kg in a m^3 mixture)</th>\n",
              "      <td>-0.275216</td>\n",
              "      <td>1.000000</td>\n",
              "      <td>-0.323580</td>\n",
              "      <td>0.107252</td>\n",
              "      <td>0.043270</td>\n",
              "      <td>-0.283999</td>\n",
              "      <td>-0.281603</td>\n",
              "      <td>-0.044246</td>\n",
              "      <td>0.134829</td>\n",
              "    </tr>\n",
              "    <tr>\n",
              "      <th>Fly Ash (component 3)(kg in a m^3 mixture)</th>\n",
              "      <td>-0.397467</td>\n",
              "      <td>-0.323580</td>\n",
              "      <td>1.000000</td>\n",
              "      <td>-0.256984</td>\n",
              "      <td>0.377503</td>\n",
              "      <td>-0.009961</td>\n",
              "      <td>0.079108</td>\n",
              "      <td>-0.154371</td>\n",
              "      <td>-0.105755</td>\n",
              "    </tr>\n",
              "    <tr>\n",
              "      <th>Water</th>\n",
              "      <td>-0.081587</td>\n",
              "      <td>0.107252</td>\n",
              "      <td>-0.256984</td>\n",
              "      <td>1.000000</td>\n",
              "      <td>-0.657533</td>\n",
              "      <td>-0.182294</td>\n",
              "      <td>-0.450661</td>\n",
              "      <td>0.277618</td>\n",
              "      <td>-0.289633</td>\n",
              "    </tr>\n",
              "    <tr>\n",
              "      <th>Superplasticizer (component 5)(kg in a m^3 mixture)</th>\n",
              "      <td>0.092386</td>\n",
              "      <td>0.043270</td>\n",
              "      <td>0.377503</td>\n",
              "      <td>-0.657533</td>\n",
              "      <td>1.000000</td>\n",
              "      <td>-0.265999</td>\n",
              "      <td>0.222691</td>\n",
              "      <td>-0.192700</td>\n",
              "      <td>0.366079</td>\n",
              "    </tr>\n",
              "    <tr>\n",
              "      <th>Coarse_agg</th>\n",
              "      <td>-0.109349</td>\n",
              "      <td>-0.283999</td>\n",
              "      <td>-0.009961</td>\n",
              "      <td>-0.182294</td>\n",
              "      <td>-0.265999</td>\n",
              "      <td>1.000000</td>\n",
              "      <td>-0.178481</td>\n",
              "      <td>-0.003016</td>\n",
              "      <td>-0.164935</td>\n",
              "    </tr>\n",
              "    <tr>\n",
              "      <th>Fine Aggregate (component 7)(kg in a m^3 mixture)</th>\n",
              "      <td>-0.222718</td>\n",
              "      <td>-0.281603</td>\n",
              "      <td>0.079108</td>\n",
              "      <td>-0.450661</td>\n",
              "      <td>0.222691</td>\n",
              "      <td>-0.178481</td>\n",
              "      <td>1.000000</td>\n",
              "      <td>-0.156095</td>\n",
              "      <td>-0.167241</td>\n",
              "    </tr>\n",
              "    <tr>\n",
              "      <th>Age (day)</th>\n",
              "      <td>0.081946</td>\n",
              "      <td>-0.044246</td>\n",
              "      <td>-0.154371</td>\n",
              "      <td>0.277618</td>\n",
              "      <td>-0.192700</td>\n",
              "      <td>-0.003016</td>\n",
              "      <td>-0.156095</td>\n",
              "      <td>1.000000</td>\n",
              "      <td>0.328873</td>\n",
              "    </tr>\n",
              "    <tr>\n",
              "      <th>Strength</th>\n",
              "      <td>0.497832</td>\n",
              "      <td>0.134829</td>\n",
              "      <td>-0.105755</td>\n",
              "      <td>-0.289633</td>\n",
              "      <td>0.366079</td>\n",
              "      <td>-0.164935</td>\n",
              "      <td>-0.167241</td>\n",
              "      <td>0.328873</td>\n",
              "      <td>1.000000</td>\n",
              "    </tr>\n",
              "  </tbody>\n",
              "</table>\n",
              "</div>"
            ],
            "text/plain": [
              "                                                    Cement (component 1)(kg in a m^3 mixture)  ...  Strength\n",
              "Cement (component 1)(kg in a m^3 mixture)                                            1.000000  ...  0.497832\n",
              "Blast Furnace Slag (component 2)(kg in a m^3 mi...                                  -0.275216  ...  0.134829\n",
              "Fly Ash (component 3)(kg in a m^3 mixture)                                          -0.397467  ... -0.105755\n",
              "Water                                                                               -0.081587  ... -0.289633\n",
              "Superplasticizer (component 5)(kg in a m^3 mixt...                                   0.092386  ...  0.366079\n",
              "Coarse_agg                                                                          -0.109349  ... -0.164935\n",
              "Fine Aggregate (component 7)(kg in a m^3 mixture)                                   -0.222718  ... -0.167241\n",
              "Age (day)                                                                            0.081946  ...  0.328873\n",
              "Strength                                                                             0.497832  ...  1.000000\n",
              "\n",
              "[9 rows x 9 columns]"
            ]
          },
          "metadata": {
            "tags": []
          },
          "execution_count": 4
        }
      ]
    },
    {
      "cell_type": "code",
      "metadata": {
        "id": "R1swUECL_c4e",
        "colab_type": "code",
        "colab": {
          "base_uri": "https://localhost:8080/",
          "height": 187
        },
        "outputId": "81abedff-4926-4164-de26-7dd9d5bfa546"
      },
      "source": [
        "abs(cor.loc['Strength']).sort_values(ascending=False)"
      ],
      "execution_count": 5,
      "outputs": [
        {
          "output_type": "execute_result",
          "data": {
            "text/plain": [
              "Strength                                                 1.000000\n",
              "Cement (component 1)(kg in a m^3 mixture)                0.497832\n",
              "Superplasticizer (component 5)(kg in a m^3 mixture)      0.366079\n",
              "Age (day)                                                0.328873\n",
              "Water                                                    0.289633\n",
              "Fine Aggregate (component 7)(kg in a m^3 mixture)        0.167241\n",
              "Coarse_agg                                               0.164935\n",
              "Blast Furnace Slag (component 2)(kg in a m^3 mixture)    0.134829\n",
              "Fly Ash (component 3)(kg in a m^3 mixture)               0.105755\n",
              "Name: Strength, dtype: float64"
            ]
          },
          "metadata": {
            "tags": []
          },
          "execution_count": 5
        }
      ]
    },
    {
      "cell_type": "code",
      "metadata": {
        "id": "nokNwdIi_hIo",
        "colab_type": "code",
        "colab": {}
      },
      "source": [
        "x=data['Strength']\n",
        "y=data['Cement (component 1)(kg in a m^3 mixture)']\n",
        "x=np.array(x/x.mean())\n",
        "y=np.array(y/y.mean())"
      ],
      "execution_count": 6,
      "outputs": []
    },
    {
      "cell_type": "code",
      "metadata": {
        "id": "o-egiz2q_mIq",
        "colab_type": "code",
        "colab": {
          "base_uri": "https://localhost:8080/",
          "height": 51
        },
        "outputId": "de5eec5d-d1e6-47ac-e397-d028e66510a6"
      },
      "source": [
        "print(np.shape(x))\n",
        "print(np.shape(y))"
      ],
      "execution_count": 7,
      "outputs": [
        {
          "output_type": "stream",
          "text": [
            "(1030,)\n",
            "(1030,)\n"
          ],
          "name": "stdout"
        }
      ]
    },
    {
      "cell_type": "code",
      "metadata": {
        "id": "E6B6XzCa_sna",
        "colab_type": "code",
        "colab": {
          "base_uri": "https://localhost:8080/",
          "height": 51
        },
        "outputId": "39fad887-f14d-4ead-8b8d-4642ed85dc51"
      },
      "source": [
        "print(x)\n",
        "print(y)"
      ],
      "execution_count": 8,
      "outputs": [
        {
          "output_type": "stream",
          "text": [
            "[2.23323711 1.72790405 1.12429627 ... 0.6616792  0.91490411 0.9045741 ]\n",
            "[1.92056088 1.92056088 1.18256758 ... 0.52815424 0.56585414 0.92791543]\n"
          ],
          "name": "stdout"
        }
      ]
    },
    {
      "cell_type": "code",
      "metadata": {
        "id": "ZYxMeN7r_x1V",
        "colab_type": "code",
        "colab": {
          "base_uri": "https://localhost:8080/",
          "height": 34
        },
        "outputId": "390e6b66-798a-46d9-930c-72f2387ed217"
      },
      "source": [
        "from sklearn.model_selection import train_test_split\n",
        "xtrain,xtest,ytrain,ytest=train_test_split(x,y,test_size=0.2)\n",
        "print(np.shape(xtrain),np.shape(ytest))"
      ],
      "execution_count": 9,
      "outputs": [
        {
          "output_type": "stream",
          "text": [
            "(824,) (206,)\n"
          ],
          "name": "stdout"
        }
      ]
    },
    {
      "cell_type": "code",
      "metadata": {
        "id": "i6d4qFaP_2Vz",
        "colab_type": "code",
        "colab": {
          "base_uri": "https://localhost:8080/",
          "height": 282
        },
        "outputId": "dc889597-4236-4e12-debe-0ec7db9b290f"
      },
      "source": [
        "plt.plot(xtrain, ytrain, 'b.')"
      ],
      "execution_count": 10,
      "outputs": [
        {
          "output_type": "execute_result",
          "data": {
            "text/plain": [
              "[<matplotlib.lines.Line2D at 0x7f89348f4828>]"
            ]
          },
          "metadata": {
            "tags": []
          },
          "execution_count": 10
        },
        {
          "output_type": "display_data",
          "data": {
            "image/png": "[encoded data removed]",
            "text/plain": [
              "<Figure size 432x288 with 1 Axes>"
            ]
          },
          "metadata": {
            "tags": [],
            "needs_background": "light"
          }
        }
      ]
    },
    {
      "cell_type": "code",
      "metadata": {
        "id": "tlTmXYZ9_6u8",
        "colab_type": "code",
        "colab": {
          "base_uri": "https://localhost:8080/",
          "height": 282
        },
        "outputId": "ca67f41c-9b4b-44bb-b089-ae0a003ee079"
      },
      "source": [
        "plt.plot(xtest, ytest, 'r.')"
      ],
      "execution_count": 11,
      "outputs": [
        {
          "output_type": "execute_result",
          "data": {
            "text/plain": [
              "[<matplotlib.lines.Line2D at 0x7f89343c57f0>]"
            ]
          },
          "metadata": {
            "tags": []
          },
          "execution_count": 11
        },
        {
          "output_type": "display_data",
          "data": {
            "image/png": "[encoded data removed]",
            "text/plain": [
              "<Figure size 432x288 with 1 Axes>"
            ]
          },
          "metadata": {
            "tags": [],
            "needs_background": "light"
          }
        }
      ]
    },
    {
      "cell_type": "code",
      "metadata": {
        "id": "fazemnxpAAKK",
        "colab_type": "code",
        "colab": {}
      },
      "source": [
        "def hypothesis(a,b,x):\n",
        "  return a*x + b"
      ],
      "execution_count": 12,
      "outputs": []
    },
    {
      "cell_type": "code",
      "metadata": {
        "id": "_u-nf0kqAEPk",
        "colab_type": "code",
        "colab": {}
      },
      "source": [
        "def error(a,b,x,y):\n",
        "  e = 0\n",
        "  m = len(y)\n",
        "  for i in range(m):\n",
        "    e += np.power((hypothesis(a,b,x[i])-y[i]),2)\n",
        "  return (1/(2*m)) *e"
      ],
      "execution_count": 13,
      "outputs": []
    },
    {
      "cell_type": "code",
      "metadata": {
        "id": "xNn9w3GmAIXR",
        "colab_type": "code",
        "colab": {}
      },
      "source": [
        "def step_gradiet(a,b,x,y,learning_rate):\n",
        "  grad_a = 0\n",
        "  grad_b = 0\n",
        "  m = len(x)\n",
        "  for i in range(m):\n",
        "    grad_a += 1/m * (hypothesis(a,b,x[i])-y[i]) *x[i]\n",
        "    grad_b += 1/m * (hypothesis(a,b,x[i])-y[i])\n",
        "  a = a- (grad_a * learning_rate)\n",
        "  b = b- (grad_b * learning_rate)\n",
        "  return a,b"
      ],
      "execution_count": 14,
      "outputs": []
    },
    {
      "cell_type": "code",
      "metadata": {
        "id": "-TcDfLMMAO4O",
        "colab_type": "code",
        "colab": {}
      },
      "source": [
        "def descend(initial_a, initial_b, x,y,learning_rate, iterations):\n",
        "  a = initial_a\n",
        "  b = initial_b\n",
        "  for i in range(iterations):\n",
        "    e = error(a,b,x,y)\n",
        "    if i % 1000 ==0:\n",
        "      print(f\"Error: {e}, a: {a}, b: {b}\")\n",
        "    a,b = step_gradiet(a,b,x,y,learning_rate)\n",
        "  return a,b"
      ],
      "execution_count": 15,
      "outputs": []
    },
    {
      "cell_type": "code",
      "metadata": {
        "id": "tF_ae4twAT0m",
        "colab_type": "code",
        "colab": {
          "base_uri": "https://localhost:8080/",
          "height": 187
        },
        "outputId": "7139eb19-de7c-45e9-fdea-3fafe410e263"
      },
      "source": [
        "a = 0\n",
        "b = 1\n",
        "learning_rate = 0.01\n",
        "iterations = 10000\n",
        "final_a, final_b = descend(a,b,xtrain, ytrain, learning_rate, iterations)"
      ],
      "execution_count": 16,
      "outputs": [
        {
          "output_type": "stream",
          "text": [
            "Error: 0.0708147437045925, a: 0, b: 1\n",
            "Error: 0.054619666484200996, a: 0.2737519325988426, b: 0.7446599217549106\n",
            "Error: 0.05263651431189956, a: 0.3642533959989541, b: 0.6441156757076963\n",
            "Error: 0.052375565418247276, a: 0.3970822189422076, b: 0.6076438980333556\n",
            "Error: 0.05234122900874247, a: 0.40899066302155107, b: 0.5944139955887909\n",
            "Error: 0.05233671092475608, a: 0.41331037441163004, b: 0.589614933687954\n",
            "Error: 0.05233611642220899, a: 0.41487732189605736, b: 0.5878741048931421\n",
            "Error: 0.052336038195845896, a: 0.4154457220036658, b: 0.5872426304601231\n",
            "Error: 0.052336027902595054, a: 0.41565190548175857, b: 0.5870135671767358\n",
            "Error: 0.05233602654817935, a: 0.41572669721045397, b: 0.5869304759460339\n"
          ],
          "name": "stdout"
        }
      ]
    },
    {
      "cell_type": "code",
      "metadata": {
        "id": "QduGZ3l-AboT",
        "colab_type": "code",
        "colab": {
          "base_uri": "https://localhost:8080/",
          "height": 51
        },
        "outputId": "2436119d-83d5-4c1e-c0fa-1fb7eafb179c"
      },
      "source": [
        "print(error(a,b,xtrain, ytrain))\n",
        "print(error(final_a,final_b, xtrain, ytrain))"
      ],
      "execution_count": 17,
      "outputs": [
        {
          "output_type": "stream",
          "text": [
            "0.0708147437045925\n",
            "0.05233602636996134\n"
          ],
          "name": "stdout"
        }
      ]
    },
    {
      "cell_type": "code",
      "metadata": {
        "id": "CxojWcD4AnoN",
        "colab_type": "code",
        "colab": {
          "base_uri": "https://localhost:8080/",
          "height": 34
        },
        "outputId": "c73f8162-b2a0-4fb0-d5bc-f7b3094edcd9"
      },
      "source": [
        "err=error(final_a, final_b, xtest, ytest)\n",
        "err"
      ],
      "execution_count": 18,
      "outputs": [
        {
          "output_type": "execute_result",
          "data": {
            "text/plain": [
              "0.050398280062478915"
            ]
          },
          "metadata": {
            "tags": []
          },
          "execution_count": 18
        }
      ]
    },
    {
      "cell_type": "code",
      "metadata": {
        "id": "WgBl6UCsAxFf",
        "colab_type": "code",
        "colab": {
          "base_uri": "https://localhost:8080/",
          "height": 34
        },
        "outputId": "627a7acb-9637-4904-9533-a9661c708b89"
      },
      "source": [
        "accuracy=(1-err)*100\n",
        "accuracy"
      ],
      "execution_count": 19,
      "outputs": [
        {
          "output_type": "execute_result",
          "data": {
            "text/plain": [
              "94.96017199375211"
            ]
          },
          "metadata": {
            "tags": []
          },
          "execution_count": 19
        }
      ]
    },
    {
      "cell_type": "code",
      "metadata": {
        "id": "eE5ZLtnpA3Kj",
        "colab_type": "code",
        "colab": {
          "base_uri": "https://localhost:8080/",
          "height": 299
        },
        "outputId": "92ef313a-9b31-4514-820c-465802c59121"
      },
      "source": [
        "plt.plot(xtest, ytest, 'r.', xtest, hypothesis(final_a, final_b, xtest), 'g')"
      ],
      "execution_count": 20,
      "outputs": [
        {
          "output_type": "execute_result",
          "data": {
            "text/plain": [
              "[<matplotlib.lines.Line2D at 0x7f8934337d68>,\n",
              " <matplotlib.lines.Line2D at 0x7f8934337e48>]"
            ]
          },
          "metadata": {
            "tags": []
          },
          "execution_count": 20
        },
        {
          "output_type": "display_data",
          "data": {
            "image/png": "[encoded data removed]",
            "text/plain": [
              "<Figure size 432x288 with 1 Axes>"
            ]
          },
          "metadata": {
            "tags": [],
            "needs_background": "light"
          }
        }
      ]
    },
    {
      "cell_type": "code",
      "metadata": {
        "id": "9tDc94kDA-Ii",
        "colab_type": "code",
        "colab": {}
      },
      "source": [
        ""
      ],
      "execution_count": null,
      "outputs": []
    }
  ]
}